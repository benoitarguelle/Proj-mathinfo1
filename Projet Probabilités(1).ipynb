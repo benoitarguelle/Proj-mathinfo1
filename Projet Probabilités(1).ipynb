{
 "cells": [
  {
   "cell_type": "markdown",
   "metadata": {},
   "source": [
    "# Projet numérique :câble sous-marin\n",
    "\n",
    "## Questions théoriques\n",
    "\n",
    "### 1)\n",
    "\n",
    "On peut estimer l'espérance condtionnelle par la moyenne empirique de simulations conditionnelles grâce à la <u> loi faible des grands nombres </u> .\n",
    "\n",
    "### 2)\n",
    "\n",
    "Soit le vecteur aléatoire $Z_p = (Z(x_0), Z(x_1), ..., Z(x_p)) $ et soit $m_{Z_p}$ son espérance. \n",
    "\n",
    "De même on note $m_Z$ l'espérance de $Z$.\n",
    "\n",
    "Puis on considère le vecteur aléatoire $X=(Z, Z_p)$, \n",
    "\n",
    "On considère la matrice de convariance $C_X$ de ce vecteur $X$ . De même on notera $C_Y$ toute matrice de covariance d'un vecteur Y. \n",
    "\n",
    "$ C_X= \\begin{pmatrix} C_Z&Cov(Z,Z_p) \\\\ Cov(Z_p, Z)&C_{Z_p} \\end{pmatrix}$.\n",
    "\n",
    "Dans la suite on notera $Cov(Z,Z_p)$ par $C_1$ et  $Cov(Z_p, Z)$ par $C_2$. \n",
    "\n",
    "Puis, d'après le cours sur les vecteurs gaussiens, on peut affirmer que :\n",
    "\n",
    "$Z_{|Z_p=x}$  suit une loi gaussienne ayant pour paramètres:\n",
    "\n",
    "-Espérance $ m_{Z_{|Z_p=x}} = m_Z + C_{1}C_{Z_p}^{-1} (x-m_{z_p}) $\n",
    "\n",
    "-Matrice de covariance $C_{Z_{|Z_{p}=x}} = C_Z-C_{1} C_{Z_p}^{-1}C_{2}$\n",
    "\n",
    "\n",
    "### 3)\n",
    "\n",
    "Pour commencer, on a que le vecteur aléatoire $Y$ a pour matrice de covariance l'identité. En effet, $Cov(Y_i, Y_j)= \\delta_ij$ puisque les $Y_i $ sont indépendants, d'espérance nulle et de variance 1.\n",
    "\n",
    "Ainsi, en nous appuyant sur le cours, $Z= m+ RY $ suit une loi gaussienne d'espérance $m_Z= m$ et $v_Z =RR^t$ \n",
    "\n",
    "### 4) \n",
    "\n",
    "En nous appuyant sur la question précédente, on part d'un vecteur aléatoire $Y$ suivant une loi gaussienne centrée-réduite. Pour simuler ce vecteur, on utlisera la méthode de Box_Muller conformément au cours.\n",
    "\n",
    "On va chercher à exprimer le vecteur $Z$ devant suivre une loi conditionnelle en fonction de $Y$ avec la formule précédente. On rappelle que, ici, $Z$ représente les points de discrétion sans observation connaissant les points de discrétion observés. On notera $X$ le vecteur aléatoire représentant les composantes observées. \n",
    "\n",
    "D'après la question 2, $m_ {Z|X=x}=  m_Z + C_{1}C_{Z_p}^{-1} (x-m_X) $ avec $Cov(Z,Z_p) = C_1 $.\n",
    "On notera cette espérance $m$.\n",
    "\n",
    "Et  $C_{Z_{|X=x}} = C_Z-C_{1} C_{X}^{-1}C_{2}$ avec $Cov(X, Z)= C_2$. On notera cette covariance $C$.\n",
    "\n",
    "Puis, en s'appuyant sur la question précédente, il faut trouver une matrice $L$ tel que $LL^t = C$ . On peut trouver une telle matrice grâce à la factorisation de Cholesky. \n",
    "Ainsi il suffit de definir $Z$ par $Z= m+LY$"
   ]
  },
  {
   "cell_type": "markdown",
   "metadata": {},
   "source": [
    "## Questions pratiques\n",
    "\n",
    "On introduit d'abord les données de l'énoncé. "
   ]
  },
  {
   "cell_type": "code",
   "execution_count": 6,
   "metadata": {},
   "outputs": [],
   "source": [
    "import numpy as np\n",
    "import math\n",
    "import matplotlib.pyplot as plt\n",
    "\n",
    "\n",
    " #Discretisation\n",
    "A = 0\n",
    "B = 500\n",
    "N= 101 #Nombre de points de discrétisation \n",
    "Delta = (B-A)/(N-1)\n",
    "discretization_indexes = np.arange(N)\n",
    "discretization = discretization_indexes*Delta\n",
    "\n",
    "#Parametres du modele\n",
    "mu = -5\n",
    "a = 50\n",
    "sigma2 = 12\n",
    "\n",
    "#Donnees\n",
    "observation_indexes = [0, 20, 40, 60, 80, 100]\n",
    "depth = np.array([0, -4, -12.8, -1, -6.5, 0])\n",
    "\n",
    "#Indices des composantes correspondant aux observations et aux composantes non observees\n",
    "unknown_indexes = list(set(discretization_indexes) - set(observation_indexes))\n"
   ]
  },
  {
   "cell_type": "markdown",
   "metadata": {},
   "source": [
    "### 1) \n",
    "\n",
    "On commence par écrire une fonction correspondant au cas simple, c'est-à-dire $d$ est un réel positif. On utlise donc simplement les données:"
   ]
  },
  {
   "cell_type": "code",
   "execution_count": 7,
   "metadata": {},
   "outputs": [],
   "source": [
    "def cov_reel(d, a, sigma2):\n",
    "    return sigma2 * math.exp(- d / a)"
   ]
  },
  {
   "cell_type": "markdown",
   "metadata": {},
   "source": [
    "Maintenant, on écrit une autre fonction dans le cas où la distance est une matrice. On se place dans le cas où les distance sont positives. \n",
    "\n",
    "On remarquera que cet algorithme est également utilisable si on a une seule distance, en la donnant sous forme de matrice (1,1). "
   ]
  },
  {
   "cell_type": "code",
   "execution_count": 8,
   "metadata": {},
   "outputs": [],
   "source": [
    "def cov_matrice(d, a, sigma2):\n",
    "    resultat= np.zeros(np.shape(d))\n",
    "    n=len(d)\n",
    "    p=len(d[0])\n",
    "    for i in range(n):\n",
    "        for j in range(p):\n",
    "            resultat[i][j]= cov_reel(d[i][j], a, sigma2)\n",
    "    return resultat"
   ]
  },
  {
   "cell_type": "markdown",
   "metadata": {},
   "source": [
    "### 2)\n",
    "\n",
    "Pour faciliter le calcul de la matrice, on peut remarquer que la matrice des distances en valeur absolue est symétrique et ne comporte que des zéros sur sa diagonale. On se contente donc de calculer la distance entre deux points $x_j, x_i$ seulement pour $i<j$ puis on complète la matrice. On se place ici dans le cadre où les distances sont toutes positives, donc en valeur absolue, puisque notre algorithme précédent fonctionne dans ce cadre précis."
   ]
  },
  {
   "cell_type": "code",
   "execution_count": 9,
   "metadata": {},
   "outputs": [
    {
     "data": {
      "text/plain": [
       "array([[  0.,   5.,  10., ..., 490., 495., 500.],\n",
       "       [  5.,   0.,   5., ..., 485., 490., 495.],\n",
       "       [ 10.,   5.,   0., ..., 480., 485., 490.],\n",
       "       ...,\n",
       "       [490., 485., 480., ...,   0.,   5.,  10.],\n",
       "       [495., 490., 485., ...,   5.,   0.,   5.],\n",
       "       [500., 495., 490., ...,  10.,   5.,   0.]])"
      ]
     },
     "execution_count": 9,
     "metadata": {},
     "output_type": "execute_result"
    }
   ],
   "source": [
    "def calcul_mat_distance(t):\n",
    "    resultat = np.zeros((len(t), len(t)))\n",
    "    for i in range (1, len(t)):\n",
    "        j=0\n",
    "        while j<i: \n",
    "            resultat[i][j] = abs(t[i] - t[j])\n",
    "            resultat[j][i] = abs(t[i] - t[j])\n",
    "            j=j+1\n",
    "    \n",
    "    return resultat\n",
    "\n",
    "MAT_DISTANCE= calcul_mat_distance(discretization)\n",
    "            \n",
    "MAT_DISTANCE"
   ]
  },
  {
   "cell_type": "markdown",
   "metadata": {},
   "source": [
    "### 3)\n",
    "\n",
    "On s'appuie sur les fonctions qu'on a déjà défini précédent."
   ]
  },
  {
   "cell_type": "code",
   "execution_count": 10,
   "metadata": {},
   "outputs": [
    {
     "data": {
      "text/plain": [
       "array([[1.20000000e+01, 1.08580490e+01, 9.82476904e+00, ...,\n",
       "        6.65419193e-04, 6.02096185e-04, 5.44799157e-04],\n",
       "       [1.08580490e+01, 1.20000000e+01, 1.08580490e+01, ...,\n",
       "        7.35401941e-04, 6.65419193e-04, 6.02096185e-04],\n",
       "       [9.82476904e+00, 1.08580490e+01, 1.20000000e+01, ...,\n",
       "        8.12744838e-04, 7.35401941e-04, 6.65419193e-04],\n",
       "       ...,\n",
       "       [6.65419193e-04, 7.35401941e-04, 8.12744838e-04, ...,\n",
       "        1.20000000e+01, 1.08580490e+01, 9.82476904e+00],\n",
       "       [6.02096185e-04, 6.65419193e-04, 7.35401941e-04, ...,\n",
       "        1.08580490e+01, 1.20000000e+01, 1.08580490e+01],\n",
       "       [5.44799157e-04, 6.02096185e-04, 6.65419193e-04, ...,\n",
       "        9.82476904e+00, 1.08580490e+01, 1.20000000e+01]])"
      ]
     },
     "execution_count": 10,
     "metadata": {},
     "output_type": "execute_result"
    }
   ],
   "source": [
    "def calcul_mat_cov(t, a, sigma2):\n",
    "    return cov_matrice(calcul_mat_distance(t), a, sigma2)\n",
    "\n",
    "MAT_COV_Z = calcul_mat_cov(discretization, a, sigma2)\n",
    "MAT_COV_Z"
   ]
  },
  {
   "cell_type": "markdown",
   "metadata": {},
   "source": [
    "### 4) \n",
    "\n",
    "Pour extraire ma matrice, je créé une matrice de même dimesions qu'il y a d'observations. Ensuite, je parcours la liste d'observation et je récupère les valeurs de MAT_COV_Z correspondants. "
   ]
  },
  {
   "cell_type": "code",
   "execution_count": 11,
   "metadata": {},
   "outputs": [
    {
     "data": {
      "text/plain": [
       "array([[1.20000000e+01, 1.62402340e+00, 2.19787667e-01, 2.97450261e-02,\n",
       "        4.02555153e-03, 5.44799157e-04],\n",
       "       [1.62402340e+00, 1.20000000e+01, 1.62402340e+00, 2.19787667e-01,\n",
       "        2.97450261e-02, 4.02555153e-03],\n",
       "       [2.19787667e-01, 1.62402340e+00, 1.20000000e+01, 1.62402340e+00,\n",
       "        2.19787667e-01, 2.97450261e-02],\n",
       "       [2.97450261e-02, 2.19787667e-01, 1.62402340e+00, 1.20000000e+01,\n",
       "        1.62402340e+00, 2.19787667e-01],\n",
       "       [4.02555153e-03, 2.97450261e-02, 2.19787667e-01, 1.62402340e+00,\n",
       "        1.20000000e+01, 1.62402340e+00],\n",
       "       [5.44799157e-04, 4.02555153e-03, 2.97450261e-02, 2.19787667e-01,\n",
       "        1.62402340e+00, 1.20000000e+01]])"
      ]
     },
     "execution_count": 11,
     "metadata": {},
     "output_type": "execute_result"
    }
   ],
   "source": [
    "def extrait_cov_obs():\n",
    "    COV_OBS= np.zeros((len(observation_indexes), len(observation_indexes)))\n",
    "    \n",
    "    for (i,x_i) in enumerate(observation_indexes):\n",
    "        \n",
    "        for (j, x_j) in enumerate(observation_indexes):\n",
    "            \n",
    "            COV_OBS[i][j]= MAT_COV_Z[x_i][x_j]\n",
    "                \n",
    "    return COV_OBS\n",
    "\n",
    "extrait_cov_obs()"
   ]
  },
  {
   "cell_type": "markdown",
   "metadata": {},
   "source": [
    "Pour les inconnus, je procède de la même manière. "
   ]
  },
  {
   "cell_type": "code",
   "execution_count": 12,
   "metadata": {},
   "outputs": [
    {
     "data": {
      "text/plain": [
       "array([[1.20000000e+01, 1.08580490e+01, 9.82476904e+00, ...,\n",
       "        8.12744838e-04, 7.35401941e-04, 6.65419193e-04],\n",
       "       [1.08580490e+01, 1.20000000e+01, 1.08580490e+01, ...,\n",
       "        8.98221959e-04, 8.12744838e-04, 7.35401941e-04],\n",
       "       [9.82476904e+00, 1.08580490e+01, 1.20000000e+01, ...,\n",
       "        9.92688787e-04, 8.98221959e-04, 8.12744838e-04],\n",
       "       ...,\n",
       "       [8.12744838e-04, 8.98221959e-04, 9.92688787e-04, ...,\n",
       "        1.20000000e+01, 1.08580490e+01, 9.82476904e+00],\n",
       "       [7.35401941e-04, 8.12744838e-04, 8.98221959e-04, ...,\n",
       "        1.08580490e+01, 1.20000000e+01, 1.08580490e+01],\n",
       "       [6.65419193e-04, 7.35401941e-04, 8.12744838e-04, ...,\n",
       "        9.82476904e+00, 1.08580490e+01, 1.20000000e+01]])"
      ]
     },
     "execution_count": 12,
     "metadata": {},
     "output_type": "execute_result"
    }
   ],
   "source": [
    "def extrait_cov_inco():\n",
    "    COV_INCO= np.zeros((len(unknown_indexes), len(unknown_indexes)))\n",
    "    \n",
    "    for (i,x_i) in enumerate(unknown_indexes):\n",
    "        \n",
    "        for (j, x_j) in enumerate(unknown_indexes):\n",
    "            \n",
    "            COV_INCO[i][j]= MAT_COV_Z[x_i][x_j]\n",
    "                \n",
    "    return COV_INCO\n",
    "\n",
    "extrait_cov_inco()"
   ]
  },
  {
   "cell_type": "markdown",
   "metadata": {},
   "source": [
    "On utilise toujours le même principe."
   ]
  },
  {
   "cell_type": "code",
   "execution_count": 13,
   "metadata": {},
   "outputs": [
    {
     "data": {
      "text/plain": [
       "array([[1.08580490e+01, 1.79482343e+00, 2.42902937e-01, 3.28733378e-02,\n",
       "        4.44892249e-03, 6.02096185e-04],\n",
       "       [9.82476904e+00, 1.98358666e+00, 2.68449262e-01, 3.63306569e-02,\n",
       "        4.91681975e-03, 6.65419193e-04],\n",
       "       [8.88981865e+00, 2.19220229e+00, 2.96682318e-01, 4.01515855e-02,\n",
       "        5.43392619e-03, 7.35401941e-04],\n",
       "       [8.04384055e+00, 2.42275822e+00, 3.27884669e-01, 4.43743646e-02,\n",
       "        6.00541720e-03, 8.12744838e-04],\n",
       "       [7.27836792e+00, 2.67756192e+00, 3.62368601e-01, 4.90412573e-02,\n",
       "        6.63701244e-03, 8.98221959e-04],\n",
       "       [6.58573963e+00, 2.95916357e+00, 4.00479240e-01, 5.41989713e-02,\n",
       "        7.33503313e-03, 9.92688787e-04],\n",
       "       [5.95902365e+00, 3.27038152e+00, 4.42598009e-01, 5.98991269e-02,\n",
       "        8.10646530e-03, 1.09709078e-03],\n",
       "       [5.39194757e+00, 3.61433054e+00, 4.89146448e-01, 6.61987730e-02,\n",
       "        8.95902970e-03, 1.21247282e-03],\n",
       "       [4.87883592e+00, 3.99445300e+00, 5.40590429e-01, 7.31609588e-02,\n",
       "        9.90125908e-03, 1.33998970e-03],\n",
       "       [4.41455329e+00, 4.41455329e+00, 5.97444820e-01, 8.08553640e-02,\n",
       "        1.09425836e-02, 1.48091765e-03],\n",
       "       [3.99445300e+00, 4.87883592e+00, 6.60278641e-01, 8.93589969e-02,\n",
       "        1.20934251e-02, 1.63666712e-03],\n",
       "       [3.61433054e+00, 5.39194757e+00, 7.29720752e-01, 9.87569646e-02,\n",
       "        1.33653018e-02, 1.80879690e-03],\n",
       "       [3.27038152e+00, 5.95902365e+00, 8.06466153e-01, 1.09143325e-01,\n",
       "        1.47709428e-02, 1.99902973e-03],\n",
       "       [2.95916357e+00, 6.58573963e+00, 8.91282939e-01, 1.20622029e-01,\n",
       "        1.63244165e-02, 2.20926952e-03],\n",
       "       [2.67756192e+00, 7.27836792e+00, 9.85019983e-01, 1.33307958e-01,\n",
       "        1.80412703e-02, 2.44162043e-03],\n",
       "       [2.42275822e+00, 8.04384055e+00, 1.08861544e+00, 1.47328079e-01,\n",
       "        1.99386873e-02, 2.69840789e-03],\n",
       "       [2.19220229e+00, 8.88981865e+00, 1.20310612e+00, 1.62822708e-01,\n",
       "        2.20356573e-02, 2.98220193e-03],\n",
       "       [1.98358666e+00, 9.82476904e+00, 1.32963790e+00, 1.79946922e-01,\n",
       "        2.43531676e-02, 3.29584284e-03],\n",
       "       [1.79482343e+00, 1.08580490e+01, 1.46947714e+00, 1.98872105e-01,\n",
       "        2.69144126e-02, 3.64246966e-03],\n",
       "       [1.46947714e+00, 1.08580490e+01, 1.79482343e+00, 2.42902937e-01,\n",
       "        3.28733378e-02, 4.44892249e-03],\n",
       "       [1.32963790e+00, 9.82476904e+00, 1.98358666e+00, 2.68449262e-01,\n",
       "        3.63306569e-02, 4.91681975e-03],\n",
       "       [1.20310612e+00, 8.88981865e+00, 2.19220229e+00, 2.96682318e-01,\n",
       "        4.01515855e-02, 5.43392619e-03],\n",
       "       [1.08861544e+00, 8.04384055e+00, 2.42275822e+00, 3.27884669e-01,\n",
       "        4.43743646e-02, 6.00541720e-03],\n",
       "       [9.85019983e-01, 7.27836792e+00, 2.67756192e+00, 3.62368601e-01,\n",
       "        4.90412573e-02, 6.63701244e-03],\n",
       "       [8.91282939e-01, 6.58573963e+00, 2.95916357e+00, 4.00479240e-01,\n",
       "        5.41989713e-02, 7.33503313e-03],\n",
       "       [8.06466153e-01, 5.95902365e+00, 3.27038152e+00, 4.42598009e-01,\n",
       "        5.98991269e-02, 8.10646530e-03],\n",
       "       [7.29720752e-01, 5.39194757e+00, 3.61433054e+00, 4.89146448e-01,\n",
       "        6.61987730e-02, 8.95902970e-03],\n",
       "       [6.60278641e-01, 4.87883592e+00, 3.99445300e+00, 5.40590429e-01,\n",
       "        7.31609588e-02, 9.90125908e-03],\n",
       "       [5.97444820e-01, 4.41455329e+00, 4.41455329e+00, 5.97444820e-01,\n",
       "        8.08553640e-02, 1.09425836e-02],\n",
       "       [5.40590429e-01, 3.99445300e+00, 4.87883592e+00, 6.60278641e-01,\n",
       "        8.93589969e-02, 1.20934251e-02],\n",
       "       [4.89146448e-01, 3.61433054e+00, 5.39194757e+00, 7.29720752e-01,\n",
       "        9.87569646e-02, 1.33653018e-02],\n",
       "       [4.42598009e-01, 3.27038152e+00, 5.95902365e+00, 8.06466153e-01,\n",
       "        1.09143325e-01, 1.47709428e-02],\n",
       "       [4.00479240e-01, 2.95916357e+00, 6.58573963e+00, 8.91282939e-01,\n",
       "        1.20622029e-01, 1.63244165e-02],\n",
       "       [3.62368601e-01, 2.67756192e+00, 7.27836792e+00, 9.85019983e-01,\n",
       "        1.33307958e-01, 1.80412703e-02],\n",
       "       [3.27884669e-01, 2.42275822e+00, 8.04384055e+00, 1.08861544e+00,\n",
       "        1.47328079e-01, 1.99386873e-02],\n",
       "       [2.96682318e-01, 2.19220229e+00, 8.88981865e+00, 1.20310612e+00,\n",
       "        1.62822708e-01, 2.20356573e-02],\n",
       "       [2.68449262e-01, 1.98358666e+00, 9.82476904e+00, 1.32963790e+00,\n",
       "        1.79946922e-01, 2.43531676e-02],\n",
       "       [2.42902937e-01, 1.79482343e+00, 1.08580490e+01, 1.46947714e+00,\n",
       "        1.98872105e-01, 2.69144126e-02],\n",
       "       [1.98872105e-01, 1.46947714e+00, 1.08580490e+01, 1.79482343e+00,\n",
       "        2.42902937e-01, 3.28733378e-02],\n",
       "       [1.79946922e-01, 1.32963790e+00, 9.82476904e+00, 1.98358666e+00,\n",
       "        2.68449262e-01, 3.63306569e-02],\n",
       "       [1.62822708e-01, 1.20310612e+00, 8.88981865e+00, 2.19220229e+00,\n",
       "        2.96682318e-01, 4.01515855e-02],\n",
       "       [1.47328079e-01, 1.08861544e+00, 8.04384055e+00, 2.42275822e+00,\n",
       "        3.27884669e-01, 4.43743646e-02],\n",
       "       [1.33307958e-01, 9.85019983e-01, 7.27836792e+00, 2.67756192e+00,\n",
       "        3.62368601e-01, 4.90412573e-02],\n",
       "       [1.20622029e-01, 8.91282939e-01, 6.58573963e+00, 2.95916357e+00,\n",
       "        4.00479240e-01, 5.41989713e-02],\n",
       "       [1.09143325e-01, 8.06466153e-01, 5.95902365e+00, 3.27038152e+00,\n",
       "        4.42598009e-01, 5.98991269e-02],\n",
       "       [9.87569646e-02, 7.29720752e-01, 5.39194757e+00, 3.61433054e+00,\n",
       "        4.89146448e-01, 6.61987730e-02],\n",
       "       [8.93589969e-02, 6.60278641e-01, 4.87883592e+00, 3.99445300e+00,\n",
       "        5.40590429e-01, 7.31609588e-02],\n",
       "       [8.08553640e-02, 5.97444820e-01, 4.41455329e+00, 4.41455329e+00,\n",
       "        5.97444820e-01, 8.08553640e-02],\n",
       "       [7.31609588e-02, 5.40590429e-01, 3.99445300e+00, 4.87883592e+00,\n",
       "        6.60278641e-01, 8.93589969e-02],\n",
       "       [6.61987730e-02, 4.89146448e-01, 3.61433054e+00, 5.39194757e+00,\n",
       "        7.29720752e-01, 9.87569646e-02],\n",
       "       [5.98991269e-02, 4.42598009e-01, 3.27038152e+00, 5.95902365e+00,\n",
       "        8.06466153e-01, 1.09143325e-01],\n",
       "       [5.41989713e-02, 4.00479240e-01, 2.95916357e+00, 6.58573963e+00,\n",
       "        8.91282939e-01, 1.20622029e-01],\n",
       "       [4.90412573e-02, 3.62368601e-01, 2.67756192e+00, 7.27836792e+00,\n",
       "        9.85019983e-01, 1.33307958e-01],\n",
       "       [4.43743646e-02, 3.27884669e-01, 2.42275822e+00, 8.04384055e+00,\n",
       "        1.08861544e+00, 1.47328079e-01],\n",
       "       [4.01515855e-02, 2.96682318e-01, 2.19220229e+00, 8.88981865e+00,\n",
       "        1.20310612e+00, 1.62822708e-01],\n",
       "       [3.63306569e-02, 2.68449262e-01, 1.98358666e+00, 9.82476904e+00,\n",
       "        1.32963790e+00, 1.79946922e-01],\n",
       "       [3.28733378e-02, 2.42902937e-01, 1.79482343e+00, 1.08580490e+01,\n",
       "        1.46947714e+00, 1.98872105e-01],\n",
       "       [2.69144126e-02, 1.98872105e-01, 1.46947714e+00, 1.08580490e+01,\n",
       "        1.79482343e+00, 2.42902937e-01],\n",
       "       [2.43531676e-02, 1.79946922e-01, 1.32963790e+00, 9.82476904e+00,\n",
       "        1.98358666e+00, 2.68449262e-01],\n",
       "       [2.20356573e-02, 1.62822708e-01, 1.20310612e+00, 8.88981865e+00,\n",
       "        2.19220229e+00, 2.96682318e-01],\n",
       "       [1.99386873e-02, 1.47328079e-01, 1.08861544e+00, 8.04384055e+00,\n",
       "        2.42275822e+00, 3.27884669e-01],\n",
       "       [1.80412703e-02, 1.33307958e-01, 9.85019983e-01, 7.27836792e+00,\n",
       "        2.67756192e+00, 3.62368601e-01],\n",
       "       [1.63244165e-02, 1.20622029e-01, 8.91282939e-01, 6.58573963e+00,\n",
       "        2.95916357e+00, 4.00479240e-01],\n",
       "       [1.47709428e-02, 1.09143325e-01, 8.06466153e-01, 5.95902365e+00,\n",
       "        3.27038152e+00, 4.42598009e-01],\n",
       "       [1.33653018e-02, 9.87569646e-02, 7.29720752e-01, 5.39194757e+00,\n",
       "        3.61433054e+00, 4.89146448e-01],\n",
       "       [1.20934251e-02, 8.93589969e-02, 6.60278641e-01, 4.87883592e+00,\n",
       "        3.99445300e+00, 5.40590429e-01],\n",
       "       [1.09425836e-02, 8.08553640e-02, 5.97444820e-01, 4.41455329e+00,\n",
       "        4.41455329e+00, 5.97444820e-01],\n",
       "       [9.90125908e-03, 7.31609588e-02, 5.40590429e-01, 3.99445300e+00,\n",
       "        4.87883592e+00, 6.60278641e-01],\n",
       "       [8.95902970e-03, 6.61987730e-02, 4.89146448e-01, 3.61433054e+00,\n",
       "        5.39194757e+00, 7.29720752e-01],\n",
       "       [8.10646530e-03, 5.98991269e-02, 4.42598009e-01, 3.27038152e+00,\n",
       "        5.95902365e+00, 8.06466153e-01],\n",
       "       [7.33503313e-03, 5.41989713e-02, 4.00479240e-01, 2.95916357e+00,\n",
       "        6.58573963e+00, 8.91282939e-01],\n",
       "       [6.63701244e-03, 4.90412573e-02, 3.62368601e-01, 2.67756192e+00,\n",
       "        7.27836792e+00, 9.85019983e-01],\n",
       "       [6.00541720e-03, 4.43743646e-02, 3.27884669e-01, 2.42275822e+00,\n",
       "        8.04384055e+00, 1.08861544e+00],\n",
       "       [5.43392619e-03, 4.01515855e-02, 2.96682318e-01, 2.19220229e+00,\n",
       "        8.88981865e+00, 1.20310612e+00],\n",
       "       [4.91681975e-03, 3.63306569e-02, 2.68449262e-01, 1.98358666e+00,\n",
       "        9.82476904e+00, 1.32963790e+00],\n",
       "       [4.44892249e-03, 3.28733378e-02, 2.42902937e-01, 1.79482343e+00,\n",
       "        1.08580490e+01, 1.46947714e+00],\n",
       "       [3.64246966e-03, 2.69144126e-02, 1.98872105e-01, 1.46947714e+00,\n",
       "        1.08580490e+01, 1.79482343e+00],\n",
       "       [3.29584284e-03, 2.43531676e-02, 1.79946922e-01, 1.32963790e+00,\n",
       "        9.82476904e+00, 1.98358666e+00],\n",
       "       [2.98220193e-03, 2.20356573e-02, 1.62822708e-01, 1.20310612e+00,\n",
       "        8.88981865e+00, 2.19220229e+00],\n",
       "       [2.69840789e-03, 1.99386873e-02, 1.47328079e-01, 1.08861544e+00,\n",
       "        8.04384055e+00, 2.42275822e+00],\n",
       "       [2.44162043e-03, 1.80412703e-02, 1.33307958e-01, 9.85019983e-01,\n",
       "        7.27836792e+00, 2.67756192e+00],\n",
       "       [2.20926952e-03, 1.63244165e-02, 1.20622029e-01, 8.91282939e-01,\n",
       "        6.58573963e+00, 2.95916357e+00],\n",
       "       [1.99902973e-03, 1.47709428e-02, 1.09143325e-01, 8.06466153e-01,\n",
       "        5.95902365e+00, 3.27038152e+00],\n",
       "       [1.80879690e-03, 1.33653018e-02, 9.87569646e-02, 7.29720752e-01,\n",
       "        5.39194757e+00, 3.61433054e+00],\n",
       "       [1.63666712e-03, 1.20934251e-02, 8.93589969e-02, 6.60278641e-01,\n",
       "        4.87883592e+00, 3.99445300e+00],\n",
       "       [1.48091765e-03, 1.09425836e-02, 8.08553640e-02, 5.97444820e-01,\n",
       "        4.41455329e+00, 4.41455329e+00],\n",
       "       [1.33998970e-03, 9.90125908e-03, 7.31609588e-02, 5.40590429e-01,\n",
       "        3.99445300e+00, 4.87883592e+00],\n",
       "       [1.21247282e-03, 8.95902970e-03, 6.61987730e-02, 4.89146448e-01,\n",
       "        3.61433054e+00, 5.39194757e+00],\n",
       "       [1.09709078e-03, 8.10646530e-03, 5.98991269e-02, 4.42598009e-01,\n",
       "        3.27038152e+00, 5.95902365e+00],\n",
       "       [9.92688787e-04, 7.33503313e-03, 5.41989713e-02, 4.00479240e-01,\n",
       "        2.95916357e+00, 6.58573963e+00],\n",
       "       [8.98221959e-04, 6.63701244e-03, 4.90412573e-02, 3.62368601e-01,\n",
       "        2.67756192e+00, 7.27836792e+00],\n",
       "       [8.12744838e-04, 6.00541720e-03, 4.43743646e-02, 3.27884669e-01,\n",
       "        2.42275822e+00, 8.04384055e+00],\n",
       "       [7.35401941e-04, 5.43392619e-03, 4.01515855e-02, 2.96682318e-01,\n",
       "        2.19220229e+00, 8.88981865e+00],\n",
       "       [6.65419193e-04, 4.91681975e-03, 3.63306569e-02, 2.68449262e-01,\n",
       "        1.98358666e+00, 9.82476904e+00],\n",
       "       [6.02096185e-04, 4.44892249e-03, 3.28733378e-02, 2.42902937e-01,\n",
       "        1.79482343e+00, 1.08580490e+01]])"
      ]
     },
     "execution_count": 13,
     "metadata": {},
     "output_type": "execute_result"
    }
   ],
   "source": [
    "def extrait_cov_inco_obs():\n",
    "    COV_INCO_OBS= np.zeros((len(unknown_indexes), len(observation_indexes)))\n",
    "    \n",
    "    for (i,x_i) in enumerate(unknown_indexes):\n",
    "        \n",
    "        for (j, x_j) in enumerate(observation_indexes):\n",
    "            \n",
    "            COV_INCO_OBS[i][j]= MAT_COV_Z[x_i][x_j]\n",
    "                \n",
    "    return COV_INCO_OBS\n",
    "\n",
    "extrait_cov_inco_obs()\n"
   ]
  },
  {
   "cell_type": "markdown",
   "metadata": {},
   "source": [
    "### 5)\n",
    "\n",
    "En s'appuyant sur le cours sur les vecteurs aléatoires gaussiens, on a immédiatement que, en notant $O$ le vecteur des composantes observées et $I$ le vecteur des composantes inconnues: \n",
    "\n",
    "$ \\mathbb{E} (I_{|O})= \\mathbb{E}(I) + Cov(I,O)Cov(O,O)^{-1}(O-\\mathbb{E}(O))$\n",
    "\n",
    "Puis, si on réutilise les notations des précédentes questions on peut écrire que : \n",
    "\n",
    "$Cov(O,O) = extrait\\_cov\\_obs() ,Cov(I,O)= extrait\\_cov\\_inco\\_obs() $ \n",
    "\n",
    "D'où :\n",
    "\n",
    "$ \\mathbb{E} (I_{|O})= \\mathbb{E}(I)+ (extrait\\_cov\\_inco\\_obs()) [extrait\\_cov\\_obs()]^{-1}(O - \\mathbb{E}(O)) $\n",
    "\n",
    "On notera $E$ l'espérance recherchée."
   ]
  },
  {
   "cell_type": "code",
   "execution_count": 14,
   "metadata": {},
   "outputs": [
    {
     "data": {
      "image/png": "[encoded data removed]",
      "text/plain": [
       "<Figure size 432x288 with 1 Axes>"
      ]
     },
     "metadata": {
      "needs_background": "light"
     },
     "output_type": "display_data"
    }
   ],
   "source": [
    "#On commence par calculer les 2 espérances, celle des composantes observées et non-observées:\n",
    "\n",
    "E_I = np.array([mu]*(len(discretization_indexes)- len(observation_indexes))).T\n",
    "E_O = np.array([mu]*len(observation_indexes)).T\n",
    "\n",
    "#On définit des variables pour simplifier le calcul\n",
    "Val_obs= depth.T\n",
    "A= extrait_cov_inco_obs()\n",
    "B= np.linalg.inv(extrait_cov_obs())\n",
    "C= Val_obs- E_O\n",
    "\n",
    "\n",
    "#On calcule l'espérance\n",
    "\n",
    "E = E_I + A.dot(B).dot(C)\n",
    "\n",
    "#On représente maintenant les données \n",
    "\n",
    "X= np.array([discretization[i] for i in unknown_indexes])\n",
    "plt.plot(X, E)\n",
    "plt.xlabel('Points de discretisation')\n",
    "plt.ylabel('Espérance conditionnelle')\n",
    "plt.title('Espérance conditionnelle des composantes non observées sachant les composantes observées')\n",
    "plt.show()\n",
    "\n",
    "\n"
   ]
  },
  {
   "cell_type": "markdown",
   "metadata": {},
   "source": [
    "### 6 \n",
    "Avec les mêmes notations, on a la formule:\n",
    "\n",
    "$C_{I_{|O}}= C_I - Cov(I,O)Cov(O,O)^{-1}Cov(O,I)$ pour la matrice de covariance. \n",
    "\n",
    "On remplace par les notations utilisées dans les questions précédentes (en notant simplement $C$ la matrice recherchée)\n",
    "\n",
    "$C= extrait\\_cov\\_inco()- extrait\\_cov\\_inco\\_obs() *extrait\\_cov\\_obs()^{-1} *  extrait\\_cov\\_inco\\_obs()^t $"
   ]
  },
  {
   "cell_type": "code",
   "execution_count": 15,
   "metadata": {},
   "outputs": [
    {
     "data": {
      "image/png": "[encoded data removed]",
      "text/plain": [
       "<Figure size 432x288 with 1 Axes>"
      ]
     },
     "metadata": {
      "needs_background": "light"
     },
     "output_type": "display_data"
    }
   ],
   "source": [
    "# On calcule C, pour se faire on définit quelques variables auxiliaires\n",
    "A= extrait_cov_inco()\n",
    "B= extrait_cov_inco_obs()\n",
    "D= np.linalg.inv(extrait_cov_obs())\n",
    "\n",
    "C= A- B.dot(D).dot(B.T)\n",
    "\n",
    "#On représente sa diagonale en fonction de la position \n",
    "D= np.array([ C[i][i] for i in range(len(C))])\n",
    "plt.plot(X, D)\n",
    "plt.title('Diagonale de la variance conditionnelle en fonction de la position ')\n",
    "plt.xlabel('Points de discrétisation')\n",
    "plt.ylabel('Variance conditionnelle')\n",
    "plt.show()"
   ]
  },
  {
   "cell_type": "markdown",
   "metadata": {},
   "source": [
    "### Commentaire\n",
    "\n",
    "Comme prévu par l'énoncé, si les points sont proches, la variance est faible. On peut également noter que cette variance est très élevées lorsqu'on s'éloigne des points observés: ce qui est logique puisque la connaissance de la profondeur est plus mauvaise. "
   ]
  },
  {
   "cell_type": "markdown",
   "metadata": {},
   "source": [
    "### 7)\n",
    "\n"
   ]
  },
  {
   "cell_type": "code",
   "execution_count": 57,
   "metadata": {},
   "outputs": [
    {
     "data": {
      "image/png": "[encoded data removed]",
      "text/plain": [
       "<Figure size 432x288 with 1 Axes>"
      ]
     },
     "metadata": {
      "needs_background": "light"
     },
     "output_type": "display_data"
    }
   ],
   "source": [
    "def simulation():\n",
    "    \n",
    "    L=np.linalg.cholesky(C)\n",
    "    X=np.zeros(95)\n",
    "    for i in range(len(X)):\n",
    "        U=np.random.uniform()\n",
    "        V=np.random.uniform()\n",
    "        X[i]= np.sqrt(-2*np.log(U))*np.cos(2*np.pi*V)\n",
    "    Z= E+L.dot(X)\n",
    "    \n",
    "    for i in range (len(Z)):\n",
    "        if Z[i]>0:\n",
    "            Z[i]=0\n",
    "    return Z\n",
    "\n",
    "Z=simulation()\n",
    "plt.plot(unknown_indexes, Z, label='Simulation')\n",
    "plt.scatter(observation_indexes, depth,label='Observations')\n",
    "plt.plot(unknown_indexes, E, label='Espérance conditionnelle')\n",
    "plt.legend()\n",
    "plt.title('Simulation conditionnelle, Composantes observées et Espérance conditonnelle')\n",
    "plt.show()\n"
   ]
  },
  {
   "cell_type": "markdown",
   "metadata": {},
   "source": [
    "### 8)\n",
    "\n",
    "On utilise la formule fournie par l'énoncé. "
   ]
  },
  {
   "cell_type": "code",
   "execution_count": 72,
   "metadata": {},
   "outputs": [
    {
     "data": {
      "text/plain": [
       "10.198039027185569"
      ]
     },
     "execution_count": 72,
     "metadata": {},
     "output_type": "execute_result"
    }
   ],
   "source": [
    "def longueur_cable(pas_dis,vec_prof ):\n",
    "    long=0\n",
    "    for i in range (len(vec_prof)-1):\n",
    "        long=long+ np.sqrt(pas_dis**2 + (vec_prof[i+1]-vec_prof[i])**2)\n",
    "    return long"
   ]
  },
  {
   "cell_type": "markdown",
   "metadata": {},
   "source": [
    "### 9)\n",
    "\n"
   ]
  },
  {
   "cell_type": "code",
   "execution_count": 73,
   "metadata": {},
   "outputs": [
    {
     "ename": "TypeError",
     "evalue": "object of type 'numpy.float64' has no len()",
     "output_type": "error",
     "traceback": [
      "\u001b[1;31m---------------------------------------------------------------------------\u001b[0m",
      "\u001b[1;31mTypeError\u001b[0m                                 Traceback (most recent call last)",
      "\u001b[1;32m<ipython-input-73-4c39f55e6f36>\u001b[0m in \u001b[0;36m<module>\u001b[1;34m\u001b[0m\n\u001b[0;32m     12\u001b[0m         \u001b[0mres\u001b[0m\u001b[1;33m.\u001b[0m\u001b[0mappend\u001b[0m\u001b[1;33m(\u001b[0m\u001b[0mlongeur_cable\u001b[0m\u001b[1;33m(\u001b[0m\u001b[0mDelta\u001b[0m\u001b[1;33m,\u001b[0m \u001b[0mS\u001b[0m\u001b[1;33m)\u001b[0m\u001b[1;33m)\u001b[0m\u001b[1;33m\u001b[0m\u001b[1;33m\u001b[0m\u001b[0m\n\u001b[0;32m     13\u001b[0m \u001b[1;33m\u001b[0m\u001b[0m\n\u001b[1;32m---> 14\u001b[1;33m \u001b[0mCent_simulations\u001b[0m\u001b[1;33m=\u001b[0m \u001b[0mplusieurs_simulations\u001b[0m\u001b[1;33m(\u001b[0m\u001b[1;36m100\u001b[0m\u001b[1;33m)\u001b[0m\u001b[1;33m\u001b[0m\u001b[1;33m\u001b[0m\u001b[0m\n\u001b[0m",
      "\u001b[1;32m<ipython-input-73-4c39f55e6f36>\u001b[0m in \u001b[0;36mplusieurs_simulations\u001b[1;34m(Nbre_simul)\u001b[0m\n\u001b[0;32m     10\u001b[0m                 \u001b[0mS\u001b[0m\u001b[1;33m[\u001b[0m\u001b[0mi\u001b[0m\u001b[1;33m]\u001b[0m\u001b[1;33m=\u001b[0m \u001b[0mL\u001b[0m\u001b[1;33m[\u001b[0m\u001b[0mi\u001b[0m \u001b[1;33m-\u001b[0m \u001b[1;33m(\u001b[0m\u001b[0mi\u001b[0m\u001b[1;33m//\u001b[0m\u001b[1;36m20\u001b[0m \u001b[1;33m+\u001b[0m \u001b[1;36m1\u001b[0m\u001b[1;33m)\u001b[0m\u001b[1;33m]\u001b[0m\u001b[1;33m\u001b[0m\u001b[1;33m\u001b[0m\u001b[0m\n\u001b[0;32m     11\u001b[0m \u001b[1;33m\u001b[0m\u001b[0m\n\u001b[1;32m---> 12\u001b[1;33m         \u001b[0mres\u001b[0m\u001b[1;33m.\u001b[0m\u001b[0mappend\u001b[0m\u001b[1;33m(\u001b[0m\u001b[0mlongeur_cable\u001b[0m\u001b[1;33m(\u001b[0m\u001b[0mDelta\u001b[0m\u001b[1;33m,\u001b[0m \u001b[0mS\u001b[0m\u001b[1;33m)\u001b[0m\u001b[1;33m)\u001b[0m\u001b[1;33m\u001b[0m\u001b[1;33m\u001b[0m\u001b[0m\n\u001b[0m\u001b[0;32m     13\u001b[0m \u001b[1;33m\u001b[0m\u001b[0m\n\u001b[0;32m     14\u001b[0m \u001b[0mCent_simulations\u001b[0m\u001b[1;33m=\u001b[0m \u001b[0mplusieurs_simulations\u001b[0m\u001b[1;33m(\u001b[0m\u001b[1;36m100\u001b[0m\u001b[1;33m)\u001b[0m\u001b[1;33m\u001b[0m\u001b[1;33m\u001b[0m\u001b[0m\n",
      "\u001b[1;32m~\\Anaconda3\\lib\\site-packages\\numpy\\lib\\function_base.py\u001b[0m in \u001b[0;36m__call__\u001b[1;34m(self, *args, **kwargs)\u001b[0m\n\u001b[0;32m   2089\u001b[0m             \u001b[0mvargs\u001b[0m\u001b[1;33m.\u001b[0m\u001b[0mextend\u001b[0m\u001b[1;33m(\u001b[0m\u001b[1;33m[\u001b[0m\u001b[0mkwargs\u001b[0m\u001b[1;33m[\u001b[0m\u001b[0m_n\u001b[0m\u001b[1;33m]\u001b[0m \u001b[1;32mfor\u001b[0m \u001b[0m_n\u001b[0m \u001b[1;32min\u001b[0m \u001b[0mnames\u001b[0m\u001b[1;33m]\u001b[0m\u001b[1;33m)\u001b[0m\u001b[1;33m\u001b[0m\u001b[1;33m\u001b[0m\u001b[0m\n\u001b[0;32m   2090\u001b[0m \u001b[1;33m\u001b[0m\u001b[0m\n\u001b[1;32m-> 2091\u001b[1;33m         \u001b[1;32mreturn\u001b[0m \u001b[0mself\u001b[0m\u001b[1;33m.\u001b[0m\u001b[0m_vectorize_call\u001b[0m\u001b[1;33m(\u001b[0m\u001b[0mfunc\u001b[0m\u001b[1;33m=\u001b[0m\u001b[0mfunc\u001b[0m\u001b[1;33m,\u001b[0m \u001b[0margs\u001b[0m\u001b[1;33m=\u001b[0m\u001b[0mvargs\u001b[0m\u001b[1;33m)\u001b[0m\u001b[1;33m\u001b[0m\u001b[1;33m\u001b[0m\u001b[0m\n\u001b[0m\u001b[0;32m   2092\u001b[0m \u001b[1;33m\u001b[0m\u001b[0m\n\u001b[0;32m   2093\u001b[0m     \u001b[1;32mdef\u001b[0m \u001b[0m_get_ufunc_and_otypes\u001b[0m\u001b[1;33m(\u001b[0m\u001b[0mself\u001b[0m\u001b[1;33m,\u001b[0m \u001b[0mfunc\u001b[0m\u001b[1;33m,\u001b[0m \u001b[0margs\u001b[0m\u001b[1;33m)\u001b[0m\u001b[1;33m:\u001b[0m\u001b[1;33m\u001b[0m\u001b[1;33m\u001b[0m\u001b[0m\n",
      "\u001b[1;32m~\\Anaconda3\\lib\\site-packages\\numpy\\lib\\function_base.py\u001b[0m in \u001b[0;36m_vectorize_call\u001b[1;34m(self, func, args)\u001b[0m\n\u001b[0;32m   2159\u001b[0m             \u001b[0mres\u001b[0m \u001b[1;33m=\u001b[0m \u001b[0mfunc\u001b[0m\u001b[1;33m(\u001b[0m\u001b[1;33m)\u001b[0m\u001b[1;33m\u001b[0m\u001b[1;33m\u001b[0m\u001b[0m\n\u001b[0;32m   2160\u001b[0m         \u001b[1;32melse\u001b[0m\u001b[1;33m:\u001b[0m\u001b[1;33m\u001b[0m\u001b[1;33m\u001b[0m\u001b[0m\n\u001b[1;32m-> 2161\u001b[1;33m             \u001b[0mufunc\u001b[0m\u001b[1;33m,\u001b[0m \u001b[0motypes\u001b[0m \u001b[1;33m=\u001b[0m \u001b[0mself\u001b[0m\u001b[1;33m.\u001b[0m\u001b[0m_get_ufunc_and_otypes\u001b[0m\u001b[1;33m(\u001b[0m\u001b[0mfunc\u001b[0m\u001b[1;33m=\u001b[0m\u001b[0mfunc\u001b[0m\u001b[1;33m,\u001b[0m \u001b[0margs\u001b[0m\u001b[1;33m=\u001b[0m\u001b[0margs\u001b[0m\u001b[1;33m)\u001b[0m\u001b[1;33m\u001b[0m\u001b[1;33m\u001b[0m\u001b[0m\n\u001b[0m\u001b[0;32m   2162\u001b[0m \u001b[1;33m\u001b[0m\u001b[0m\n\u001b[0;32m   2163\u001b[0m             \u001b[1;31m# Convert args to object arrays first\u001b[0m\u001b[1;33m\u001b[0m\u001b[1;33m\u001b[0m\u001b[1;33m\u001b[0m\u001b[0m\n",
      "\u001b[1;32m~\\Anaconda3\\lib\\site-packages\\numpy\\lib\\function_base.py\u001b[0m in \u001b[0;36m_get_ufunc_and_otypes\u001b[1;34m(self, func, args)\u001b[0m\n\u001b[0;32m   2119\u001b[0m \u001b[1;33m\u001b[0m\u001b[0m\n\u001b[0;32m   2120\u001b[0m             \u001b[0minputs\u001b[0m \u001b[1;33m=\u001b[0m \u001b[1;33m[\u001b[0m\u001b[0marg\u001b[0m\u001b[1;33m.\u001b[0m\u001b[0mflat\u001b[0m\u001b[1;33m[\u001b[0m\u001b[1;36m0\u001b[0m\u001b[1;33m]\u001b[0m \u001b[1;32mfor\u001b[0m \u001b[0marg\u001b[0m \u001b[1;32min\u001b[0m \u001b[0margs\u001b[0m\u001b[1;33m]\u001b[0m\u001b[1;33m\u001b[0m\u001b[1;33m\u001b[0m\u001b[0m\n\u001b[1;32m-> 2121\u001b[1;33m             \u001b[0moutputs\u001b[0m \u001b[1;33m=\u001b[0m \u001b[0mfunc\u001b[0m\u001b[1;33m(\u001b[0m\u001b[1;33m*\u001b[0m\u001b[0minputs\u001b[0m\u001b[1;33m)\u001b[0m\u001b[1;33m\u001b[0m\u001b[1;33m\u001b[0m\u001b[0m\n\u001b[0m\u001b[0;32m   2122\u001b[0m \u001b[1;33m\u001b[0m\u001b[0m\n\u001b[0;32m   2123\u001b[0m             \u001b[1;31m# Performance note: profiling indicates that -- for simple\u001b[0m\u001b[1;33m\u001b[0m\u001b[1;33m\u001b[0m\u001b[1;33m\u001b[0m\u001b[0m\n",
      "\u001b[1;32m<ipython-input-20-9ba8c7f44ff1>\u001b[0m in \u001b[0;36mlongueur_cable\u001b[1;34m(pas_dis, vec_prof)\u001b[0m\n\u001b[0;32m      1\u001b[0m \u001b[1;32mdef\u001b[0m \u001b[0mlongueur_cable\u001b[0m\u001b[1;33m(\u001b[0m\u001b[0mpas_dis\u001b[0m\u001b[1;33m,\u001b[0m\u001b[0mvec_prof\u001b[0m \u001b[1;33m)\u001b[0m\u001b[1;33m:\u001b[0m\u001b[1;33m\u001b[0m\u001b[1;33m\u001b[0m\u001b[0m\n\u001b[0;32m      2\u001b[0m     \u001b[0mlong\u001b[0m\u001b[1;33m=\u001b[0m\u001b[1;36m0\u001b[0m\u001b[1;33m\u001b[0m\u001b[1;33m\u001b[0m\u001b[0m\n\u001b[1;32m----> 3\u001b[1;33m     \u001b[1;32mfor\u001b[0m \u001b[0mi\u001b[0m \u001b[1;32min\u001b[0m \u001b[0mrange\u001b[0m \u001b[1;33m(\u001b[0m\u001b[0mlen\u001b[0m\u001b[1;33m(\u001b[0m\u001b[0mvec_prof\u001b[0m\u001b[1;33m)\u001b[0m\u001b[1;33m-\u001b[0m\u001b[1;36m1\u001b[0m\u001b[1;33m)\u001b[0m\u001b[1;33m:\u001b[0m\u001b[1;33m\u001b[0m\u001b[1;33m\u001b[0m\u001b[0m\n\u001b[0m\u001b[0;32m      4\u001b[0m         \u001b[0mlong\u001b[0m\u001b[1;33m=\u001b[0m\u001b[0mlong\u001b[0m\u001b[1;33m+\u001b[0m \u001b[0mnp\u001b[0m\u001b[1;33m.\u001b[0m\u001b[0msqrt\u001b[0m\u001b[1;33m(\u001b[0m\u001b[0mpas_dis\u001b[0m\u001b[1;33m**\u001b[0m\u001b[1;36m2\u001b[0m \u001b[1;33m+\u001b[0m \u001b[0mvec_prof\u001b[0m\u001b[1;33m[\u001b[0m\u001b[0mi\u001b[0m\u001b[1;33m+\u001b[0m\u001b[1;36m1\u001b[0m\u001b[1;33m]\u001b[0m\u001b[1;33m-\u001b[0m\u001b[0mvec_prof\u001b[0m\u001b[1;33m[\u001b[0m\u001b[0mi\u001b[0m\u001b[1;33m]\u001b[0m\u001b[1;33m**\u001b[0m\u001b[1;36m2\u001b[0m\u001b[1;33m)\u001b[0m\u001b[1;33m\u001b[0m\u001b[1;33m\u001b[0m\u001b[0m\n\u001b[0;32m      5\u001b[0m     \u001b[1;32mreturn\u001b[0m \u001b[0mlong\u001b[0m\u001b[1;33m\u001b[0m\u001b[1;33m\u001b[0m\u001b[0m\n",
      "\u001b[1;31mTypeError\u001b[0m: object of type 'numpy.float64' has no len()"
     ]
    }
   ],
   "source": [
    "def plusieurs_simulations(Nbre_simul):\n",
    "    res=[]\n",
    "    for k in range (Nbre_simul):\n",
    "        L= simulation()\n",
    "        S=np.zeros(101)\n",
    "        for i in range(101):\n",
    "            if i in observation_indexes:\n",
    "                S[i]=depth[i//20]\n",
    "            else: \n",
    "                S[i]= L[i - (i//20 + 1)]\n",
    "           \n",
    "        res.append(longeur_cable(Delta, S))\n",
    "    \n",
    "Cent_simulations= plusieurs_simulations(100)"
   ]
  },
  {
   "cell_type": "markdown",
   "metadata": {},
   "source": [
    "### 10\n",
    "\n",
    "Notons $L_i$ la longeur de câble nécessaire à la $i^{ème}$ simulation.  \n",
    "\n",
    "On a donc que $M_n = \\frac{\\sum^n_{i=1}L_i}{n}$\n",
    "\n",
    "Cherchons une relation de récurrence entre $M_n$ et $M_{n+1}$ :\n",
    "\n",
    "$ M_{n+1}= \\frac{\\sum_{i=1}^{n}L_i}{n+1} + \\frac{L_{i+1}}{n+1}$ , puis\n",
    "\n",
    "$ M_{n+1}= \\frac{n}{n+1}M_n + \\frac{L_{i+1}}{n+1}$."
   ]
  },
  {
   "cell_type": "code",
   "execution_count": null,
   "metadata": {},
   "outputs": [],
   "source": [
    "def Mn(sim):\n",
    "    M=0\n",
    "    nombre_simul= len(sim)\n",
    "    moyenne_simulation=[M]\n",
    "    longueurs_simulation= longueur_cable(Delta, sim)\n",
    "    for i in range (nombre_simul):\n",
    "        M= i/i+1 * M + longueurs_simulation[i]/(i+1)\n",
    "        moyenne_simulation.append(M)\n",
    "\n",
    "    \n",
    "        "
   ]
  }
 ],
 "metadata": {
  "kernelspec": {
   "display_name": "Python 3",
   "language": "python",
   "name": "python3"
  },
  "language_info": {
   "codemirror_mode": {
    "name": "ipython",
    "version": 3
   },
   "file_extension": ".py",
   "mimetype": "text/x-python",
   "name": "python",
   "nbconvert_exporter": "python",
   "pygments_lexer": "ipython3",
   "version": "3.7.4"
  }
 },
 "nbformat": 4,
 "nbformat_minor": 2
}
