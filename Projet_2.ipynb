{
 "cells": [
  {
   "cell_type": "markdown",
   "metadata": {},
   "source": [
    "# Projet numérique : choix du pas de temps\n",
    "\n",
    "## Pas fixe : code informatique \n",
    "\n",
    "Nous devons dans un premier temps programmer le schéma de résolution numérique d'Euler explicite. Dans toute la suite des simulations et tests, nous utiliserons la fonction cosinus comme cobaye.\n",
    "\n",
    "L'équation différentielle à résoudre est donc  \\dot{x} = - sin(t)\n"
   ]
  },
  {
   "cell_type": "code",
   "execution_count": null,
   "metadata": {},
   "outputs": [],
   "source": [
    "test"
   ]
  }
 ],
 "metadata": {
  "kernelspec": {
   "display_name": "Python 3",
   "language": "python",
   "name": "python3"
  },
  "language_info": {
   "codemirror_mode": {
    "name": "ipython",
    "version": 3
   },
   "file_extension": ".py",
   "mimetype": "text/x-python",
   "name": "python",
   "nbconvert_exporter": "python",
   "pygments_lexer": "ipython3",
   "version": "3.7.3"
  }
 },
 "nbformat": 4,
 "nbformat_minor": 2
}
