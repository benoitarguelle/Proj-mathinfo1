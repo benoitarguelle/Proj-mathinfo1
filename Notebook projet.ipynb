{
 "cells": [
  {
   "cell_type": "markdown",
   "metadata": {},
   "source": [
    "Si on on pose g : t |--> f(0,t) définie sur [0;1]. Avec l'hypothèse de f continûment différentiable, on obtient que g est C1, Donc avec le théorème des valeurs intermédiaires appliquées à g, il semble raisonnable de fixer f(0;0)<c<f(0;1) pour être certain d'obtenir t appartenant à [0;1] tel que f(0;t)=c.\n",
    "\n",
    "On intialise notre premier point de la ligne de niveau avec find_seed. Pour trouver ce premier point, on fonctionne par dichotomie."
   ]
  },
  {
   "cell_type": "code",
   "execution_count": null,
   "metadata": {},
   "outputs": [],
   "source": [
    "def find_seed(g, c=0, eps=2**(-26)):\n",
    "    max=max(g(0,1), g(0,0))\n",
    "    min=min(g(0,1), g(0,0))\n",
    "\n",
    "    if c>max or c<min:\n",
    "        return None\n",
    "    a=0\n",
    "    b=1\n",
    "    assert (g(0,a)*g(0,b)<=0)\n",
    "    \n",
    "    while (b-a)>eps :\n",
    "        d=(a+b)/2\n",
    "        if g(0,a)*g(0,d) < 0 :\n",
    "            b=d\n",
    "        else :\n",
    "            a=d\n",
    "    return (a+b)/2\n",
    "            \n",
    "        "
   ]
  },
  {
   "cell_type": "raw",
   "metadata": {},
   "source": [
    "Propagation : l'idée est de parcourir l'un des cotés de notre carré et de relever un point de la ligne de niveau à chaque \"arret\" sur ce coté, arrêts espacés de delta. Pour ceci, il nous faut modifier nos fonctions ci dessus pour se déplacer librement sur la première coordonnée de f sans rester bloqué sur 0. Pour respecter la proximité de delta au niveau de x et y, on initialise une première valeur de coordonnées de la ligne de niveau, puis on se place dans un intervalle autour de la première valeur de y au lieu de rester sur [0;1]. Ceci permet également de palier au problème rencontré si notre ligne de niveau fait un \"lacet\", ce qui engendrerait deux valeurs possibles de y pour un même x. Dans ce cas, nos tableaux n'auraient pas forcément présenté de continuité sur la ligne de niveau."
   ]
  },
  {
   "cell_type": "code",
   "execution_count": null,
   "metadata": {},
   "outputs": [],
   "source": [
    "def simple_contour(f, c=0.0, delta=0.01):\n",
    "    x0=0\n",
    "    y0=find_seed(f,c,eps)\n",
    "    \n",
    "    "
   ]
  }
 ],
 "metadata": {
  "kernelspec": {
   "display_name": "Python 3",
   "language": "python",
   "name": "python3"
  },
  "language_info": {
   "codemirror_mode": {
    "name": "ipython",
    "version": 3
   },
   "file_extension": ".py",
   "mimetype": "text/x-python",
   "name": "python",
   "nbconvert_exporter": "python",
   "pygments_lexer": "ipython3",
   "version": "3.7.3"
  }
 },
 "nbformat": 4,
 "nbformat_minor": 2
}
