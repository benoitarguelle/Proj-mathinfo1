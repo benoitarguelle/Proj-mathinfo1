{
 "cells": [
  {
   "cell_type": "markdown",
   "metadata": {},
   "source": [
    "# Projet Maths/Info Laperrouze/Arguelle\n",
    "\n",
    "## Amorce\n",
    "\n",
    "Si on pose g : t |--> f(0,t) définie sur [0;1]. Avec l'hypothèse de f continûment différentiable, on obtient que g est C1, Donc avec le théorème des valeurs intermédiaires appliquées à g, il semble raisonnable de fixer f(0;0)<c<f(0;1) pour être certain d'obtenir t appartenant à [0;1] tel que f(0;t)=c.\n",
    "\n",
    "On choisit la méthode de Newton corrigée par c pour trouver le de la fonction auxiliaire h=g-c. On obtient donc un 0 correspondant (ou pas)."
   ]
  },
  {
   "cell_type": "code",
   "execution_count": 1,
   "metadata": {},
   "outputs": [],
   "source": [
    "def find_seed(g, c=0, eps=2**(-26)):\n",
    "    max=max(g(0,1), g(0,0))\n",
    "    min=min(g(0,1), g(0,0))\n",
    "\n",
    "    if c>max or c<min:\n",
    "        return None\n",
    "    t=0\n",
    "\n",
    "    while abs(g(0,t)-c)>eps:\n",
    "    \n",
    "        t= t - (g(0,t)/deriv(g,0, t))\n",
    "    \n",
    "    return t\n",
    "\n",
    "\n",
    "def deriv2(g,x,y):\n",
    "    h=10**(-10)\n",
    "    a=g(x,y+h)-g(x,y-h)\n",
    "    return a/(2*h)\n"
   ]
  },
  {
   "cell_type": "markdown",
   "metadata": {},
   "source": [
    "## Propagation \n",
    "\n",
    "L'idée est de parcourir l'un des cotés de notre carré et de relever un point de la ligne de niveau à chaque \"arret\" sur ce coté, arrêts espacés de delta. Pour ceci, il nous faut modifier nos fonctions ci dessus pour se déplacer librement sur la première coordonnée de f sans rester bloqué sur 0. Pour respecter la proximité de delta au niveau de x et y, on initialise une première valeur de coordonnées de la ligne de niveau, puis on se place dans un intervalle autour de la première valeur de y au lieu de rester sur [0;1]. Ceci permet également de palier au problème rencontré si notre ligne de niveau fait un \"lacet\", ce qui engendrerait deux valeurs possibles de y pour un même x. Dans ce cas, nos tableaux n'auraient pas forcément présenté de continuité sur la ligne de niveau."
   ]
  },
  {
   "cell_type": "code",
   "execution_count": null,
   "metadata": {},
   "outputs": [],
   "source": [
    "def simple_contour(f, c=0.0, delta=0.01):\n",
    "    X=np.arange(0,1, delta)\n",
    "    Y=[]\n",
    "\n",
    "\n",
    "    for x0 in X:\n",
    "        Y.append(find_seed2(x0,g))\n",
    "      \n",
    "      \n",
    "    while y0!= None and s<len(Y):\n",
    "        Yfinal.append(y0)\n",
    "        s=s+1\n",
    "        y0=Y[s]\n",
    "    return X[:len(Yfinal)],Yfinal\n",
    "\n",
    "     \n",
    "\n",
    "def find_seed2(x,g, c=0, eps=2**(-26), delta=0.01):\n",
    "\n",
    "    max=max(g(x,y0-delta), g(x,y0+delta))\n",
    "    min=min(g(x,y0-delta), g(x,y0+delta))\n",
    "\n",
    "    if c>max or c<min:\n",
    "         return None\n",
    "\n",
    "    y0=0\n",
    "\n",
    "    while abs(g(x,y0))>eps:\n",
    "        y0= y0 - (g(x,y0)/deriv(g,x,y0))\n",
    "    \n",
    "    return y0"
   ]
  },
  {
   "cell_type": "markdown",
   "metadata": {},
   "source": [
    "## Contour complexe\n",
    "\n",
    "On modifie la fonctions find_seed pour l'adapter à n'importe quel rectangle de mesure. Le fonctionnement de notre code est alors de quadriller notre espace en rectangles élémentaires, puis de reprendre le même déroulement que pour \"simple_contour\" pour chaque rectangle de notre quadrillage. On obtient alors une vue d'ensemble de notre espace avec la ligne de niveau concernée."
   ]
  },
  {
   "cell_type": "code",
   "execution_count": null,
   "metadata": {},
   "outputs": [],
   "source": [
    "xc=np.arange(0.0,1.0,0.01)\n",
    "yc=np.arange(0.0,1.0, 0.01)\n",
    "\n",
    "def contour(f, xc, yc,c=0.0, delta=0.01):\n",
    "    Yfinal=[]\n",
    "    Xfinal=[]\n",
    "\n",
    "    for i in range (1, len(xc)):\n",
    "\n",
    "        Xquadr=np.arange(xc[i-1], xc[i], alpha=0.001)\n",
    "    \n",
    "        for j in range(1,len(yc)):\n",
    "            Yquadr=np.arange(yc[j-1], yc[j],alpha=0.001)\n",
    "            y0=yc[j-1]\n",
    "            Ylocal=[]\n",
    "            for x0 in Xquadr:\n",
    "                y0=find_seed3(x0,y0, g, yc[j+1], yc[j])\n",
    "                Ylocal.append(y0)\n",
    "            s=0\n",
    "            Y=[]\n",
    "\n",
    "            while y0!= None and s<len(Ylocal):\n",
    "                Y.append(y0)\n",
    "                s=s+1\n",
    "                y0=Ylocal[s]\n",
    "            Yfinal.append(Y)\n",
    "        Xfinal.append(Xquadr)\n",
    "    return Xfinal, Yfinal\n",
    "   \n",
    "\n",
    "\n",
    "def find_seed3(x, y ,g, valmax, valmin, c=0, eps=2**(-26)):\n",
    "\n",
    "    max=max(g(x,valmin), g(x,valmax))\n",
    "    min=min(g(x,valmin), g(x,valmax))\n",
    "\n",
    "    if c>max or c<min:\n",
    "        return None\n",
    "\n",
    "    while abs(g(x,y)-c)>eps:\n",
    "    \n",
    "        if y>valmax or y<valmin:\n",
    "            return None\n",
    "            \n",
    "        y= y - (g(x,y)/deriv(g,x,y))\n",
    "\n",
    "    return y"
   ]
  }
 ],
 "metadata": {
  "kernelspec": {
   "display_name": "Python 3",
   "language": "python",
   "name": "python3"
  },
  "language_info": {
   "codemirror_mode": {
    "name": "ipython",
    "version": 3
   },
   "file_extension": ".py",
   "mimetype": "text/x-python",
   "name": "python",
   "nbconvert_exporter": "python",
   "pygments_lexer": "ipython3",
   "version": "3.7.3"
  }
 },
 "nbformat": 4,
 "nbformat_minor": 2
}
