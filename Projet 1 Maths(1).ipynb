{
 "cells": [
  {
   "cell_type": "markdown",
   "metadata": {},
   "source": [
    "# Projet Maths/Info Laperrouze/Arguelle\n",
    "\n",
    "Avant toute chose, on importe les modules dont on aura besoin."
   ]
  },
  {
   "cell_type": "code",
   "execution_count": null,
   "metadata": {},
   "outputs": [],
   "source": [
    "import numpy as np\n",
    "import autograd\n",
    "import matplotlib.pyplot as plt\n",
    "%matplotlib inline"
   ]
  },
  {
   "cell_type": "markdown",
   "metadata": {},
   "source": [
    "## Amorce\n",
    "### Approche par la méthode de Newton\n",
    "\n",
    "Si on pose $g : t --> f(0,t)$ définie sur $[0;1]$. \n",
    "Avec l'hypothèse de f continûment différentiable, on obtient que $g$ est $C^1$, Donc avec le théorème des valeurs intermédiaires appliquées à $g$, il semble raisonnable de fixer $f(0;0)<c<f(0;1)$ pour être certain d'obtenir t appartenant à $[0;1]$ tel que $f(0;t)=c$.\n",
    "\n",
    "On choisit la **méthode de Newton** corrigée par $c$ pour trouver le de la fonction auxiliaire $h=g-c$. On obtient donc un $0$ correspondant (ou pas).\n",
    "\n",
    "Pour dériver la fonction, on utilise le module **autograd**. "
   ]
  },
  {
   "cell_type": "code",
   "execution_count": null,
   "metadata": {},
   "outputs": [],
   "source": [
    "def find_seedNew(g, x0=0, c=0, eps=2**(-26)):\n",
    "    maxi=max(g(x0,1.0), g(x0,0.0))\n",
    "    mini=min(g(x0,1.0), g(x0,0.0))\n",
    "    \n",
    "    if (c<mini) and (c>maxi):\n",
    "        return None \n",
    "        \n",
    "    t=1.0\n",
    "\n",
    "    while abs(g(x0,t)-c)>eps:\n",
    "        t= t - (g(x0,t)/deriv(g,x0, t))\n",
    "    return t\n",
    "\n",
    "\n",
    "\n",
    "def deriv(f,x,y):\n",
    "    g=autograd.grad(f,1)\n",
    "    return g(x,y)"
   ]
  },
  {
   "cell_type": "markdown",
   "metadata": {},
   "source": [
    "On teste cette fonction pour une fonction simple:\n",
    "\n",
    "$$ f(x,y)=x^2+y^ 2$$\n",
    "\n",
    "On s'attend à trouver $y=0$."
   ]
  },
  {
   "cell_type": "code",
   "execution_count": 28,
   "metadata": {},
   "outputs": [
    {
     "data": {
      "text/plain": [
       "2.9802322387695312e-08"
      ]
     },
     "execution_count": 28,
     "metadata": {},
     "output_type": "execute_result"
    }
   ],
   "source": [
    "def f(x,y):\n",
    "    return x**2+y**2\n",
    "\n",
    "find_seedNew(f)"
   ]
  },
  {
   "cell_type": "markdown",
   "metadata": {},
   "source": [
    "On remarque que la valeur est bien $y=0$. "
   ]
  },
  {
   "cell_type": "markdown",
   "metadata": {},
   "source": [
    "### Approche par dichotomie\n",
    "\n",
    "Avec les mêmes hypothèses de continuiété, on peut également utiliser **la méthode par dichtomie** pour trouver le $0$ de la fonction. Cette approche est plus naïve mais sera utile par la suite. "
   ]
  },
  {
   "cell_type": "code",
   "execution_count": 62,
   "metadata": {},
   "outputs": [],
   "source": [
    "def find_seedDich(g, x0=0, c=1, eps=2**(-26)):\n",
    "\n",
    "    maxi=max(g(x0,1), g(x0,0))\n",
    "    mini=min(g(x0,1), g(x0,0))\n",
    "    if c>maxi or c<mini:\n",
    "        print(maxi, mini)\n",
    "        return None\n",
    "    a=0\n",
    "    b=1\n",
    "    d=(a+b)/2\n",
    "    while abs(b-a)> eps:\n",
    "        if (g(x0,a)-c)*(g(x0,d)-c)>=0:\n",
    "            a=d\n",
    "        else:\n",
    "            b=d\n",
    "        d=(a+b)/2\n",
    "    return d"
   ]
  },
  {
   "cell_type": "markdown",
   "metadata": {},
   "source": [
    "<p>Cette fois-ci on cherche la solution de $$f(x,y)=1$$ quand $x=0$ <p>\n",
    "On utilise la même fonction que ci-dessus:"
   ]
  },
  {
   "cell_type": "code",
   "execution_count": 63,
   "metadata": {},
   "outputs": [
    {
     "data": {
      "text/plain": [
       "0.9999999925494194"
      ]
     },
     "execution_count": 63,
     "metadata": {},
     "output_type": "execute_result"
    }
   ],
   "source": [
    "find_seedDich(f)"
   ]
  },
  {
   "cell_type": "markdown",
   "metadata": {},
   "source": [
    "On trouve bien $y=1$, qui est la seule solution à l'équation $\\in[0,1]$."
   ]
  },
  {
   "cell_type": "markdown",
   "metadata": {},
   "source": [
    "## Propagation \n",
    "### Première approche\n",
    "\n",
    "\n",
    "<p> L'idée est de parcourir l'un des cotés de notre carré et de relever un point de la ligne de niveau à chaque \"arret\" sur ce coté, arrêts espacés de delta. Pour ce faire on créer une liste de valeurs pour la première coordonnée $x$ espacés de $\\delta$. Il faut donc  modifier nos fonctions ci-dessus pour se déplacer librement sur la première coordonnée de f sans rester bloqué sur 0. <p>\n",
    "    \n",
    "Dans un premier temps, on ne se préocuppe pas d'avoir seulement un $\\delta$ d'écart entre 2 valeurs de $y$. Si on ne ne trouve pas de valeur de $y$ pour $x+\\delta$, on s'arrête. "
   ]
  },
  {
   "cell_type": "code",
   "execution_count": 46,
   "metadata": {},
   "outputs": [],
   "source": [
    "def simple_contour(f,y0=0.0, c=1, delta=0.01):\n",
    "    X=np.arange(0,1, delta)\n",
    "    Y=[]\n",
    "\n",
    "    for x0 in X:\n",
    "        if y0!=None and y0<=1 and y0>=0:\n",
    "            y0=find_seedDich(f,x0)\n",
    "            Y.append(y0)\n",
    "\n",
    "        else:\n",
    "            plt.plot(X[:(len(Y))],Y)\n",
    "            plt.show()\n",
    "            return X,Y\n",
    "\n",
    "    plt.plot(X, Y)\n",
    "    plt.show()\n",
    "\n",
    "    return X,Y"
   ]
  },
  {
   "cell_type": "markdown",
   "metadata": {},
   "source": [
    "On essaie pour la fonction $f=x^2+y^2$ définie précédemment."
   ]
  },
  {
   "cell_type": "code",
   "execution_count": 47,
   "metadata": {},
   "outputs": [
    {
     "data": {
      "image/png": "[encoded data removed]",
      "text/plain": [
       "<Figure size 432x288 with 1 Axes>"
      ]
     },
     "metadata": {
      "needs_background": "light"
     },
     "output_type": "display_data"
    },
    {
     "data": {
      "text/plain": [
       "(array([0.  , 0.01, 0.02, 0.03, 0.04, 0.05, 0.06, 0.07, 0.08, 0.09, 0.1 ,\n",
       "        0.11, 0.12, 0.13, 0.14, 0.15, 0.16, 0.17, 0.18, 0.19, 0.2 , 0.21,\n",
       "        0.22, 0.23, 0.24, 0.25, 0.26, 0.27, 0.28, 0.29, 0.3 , 0.31, 0.32,\n",
       "        0.33, 0.34, 0.35, 0.36, 0.37, 0.38, 0.39, 0.4 , 0.41, 0.42, 0.43,\n",
       "        0.44, 0.45, 0.46, 0.47, 0.48, 0.49, 0.5 , 0.51, 0.52, 0.53, 0.54,\n",
       "        0.55, 0.56, 0.57, 0.58, 0.59, 0.6 , 0.61, 0.62, 0.63, 0.64, 0.65,\n",
       "        0.66, 0.67, 0.68, 0.69, 0.7 , 0.71, 0.72, 0.73, 0.74, 0.75, 0.76,\n",
       "        0.77, 0.78, 0.79, 0.8 , 0.81, 0.82, 0.83, 0.84, 0.85, 0.86, 0.87,\n",
       "        0.88, 0.89, 0.9 , 0.91, 0.92, 0.93, 0.94, 0.95, 0.96, 0.97, 0.98,\n",
       "        0.99]),\n",
       " [0.9999999925494194,\n",
       "  0.999949999153614,\n",
       "  0.9997999742627144,\n",
       "  0.9995499029755592,\n",
       "  0.9991996809840202,\n",
       "  0.9987492188811302,\n",
       "  0.9981983825564384,\n",
       "  0.9975469931960106,\n",
       "  0.9967948570847511,\n",
       "  0.9959417656064034,\n",
       "  0.9949874356389046,\n",
       "  0.9939315840601921,\n",
       "  0.9927738979458809,\n",
       "  0.9915139898657799,\n",
       "  0.9901515021920204,\n",
       "  0.9886860027909279,\n",
       "  0.9871170148253441,\n",
       "  0.9854440614581108,\n",
       "  0.9836666062474251,\n",
       "  0.9817840829491615,\n",
       "  0.9797958955168724,\n",
       "  0.9777013882994652,\n",
       "  0.9754998758435249,\n",
       "  0.9731906279921532,\n",
       "  0.970772884786129,\n",
       "  0.968245841562748,\n",
       "  0.9656086191534996,\n",
       "  0.9628603234887123,\n",
       "  0.9600000008940697,\n",
       "  0.9570266380906105,\n",
       "  0.9539392068982124,\n",
       "  0.9507365599274635,\n",
       "  0.9474175497889519,\n",
       "  0.9439809247851372,\n",
       "  0.9404254332184792,\n",
       "  0.936749704182148,\n",
       "  0.932952307164669,\n",
       "  0.9290317520499229,\n",
       "  0.9249864891171455,\n",
       "  0.9208148494362831,\n",
       "  0.9165151342749596,\n",
       "  0.9120855256915092,\n",
       "  0.9075241014361382,\n",
       "  0.9028288945555687,\n",
       "  0.8979977741837502,\n",
       "  0.893028549849987,\n",
       "  0.8879189118742943,\n",
       "  0.8826664164662361,\n",
       "  0.877268485724926,\n",
       "  0.871722437441349,\n",
       "  0.866025410592556,\n",
       "  0.8601743951439857,\n",
       "  0.8541662618517876,\n",
       "  0.8479976430535316,\n",
       "  0.8416650220751762,\n",
       "  0.8351646587252617,\n",
       "  0.8284926041960716,\n",
       "  0.8216446861624718,\n",
       "  0.8146164789795876,\n",
       "  0.8074032440781593,\n",
       "  0.8000000044703484,\n",
       "  0.792401410639286,\n",
       "  0.7846018150448799,\n",
       "  0.7765951380133629,\n",
       "  0.7683749124407768,\n",
       "  0.7599342092871666,\n",
       "  0.7512655928730965,\n",
       "  0.7423610910773277,\n",
       "  0.7332121059298515,\n",
       "  0.7238093689084053,\n",
       "  0.7141428366303444,\n",
       "  0.7042016759514809,\n",
       "  0.693974070250988,\n",
       "  0.6834471449255943,\n",
       "  0.6726068630814552,\n",
       "  0.6614378318190575,\n",
       "  0.6499230787158012,\n",
       "  0.6380438879132271,\n",
       "  0.6257795169949532,\n",
       "  0.6131068393588066,\n",
       "  0.6000000014901161,\n",
       "  0.5864298716187477,\n",
       "  0.572363518178463,\n",
       "  0.5577633902430534,\n",
       "  0.5425863936543465,\n",
       "  0.5267826840281487,\n",
       "  0.5102940276265144,\n",
       "  0.493051715195179,\n",
       "  0.4749736860394478,\n",
       "  0.4559605196118355,\n",
       "  0.4358898922801018,\n",
       "  0.4146082475781441,\n",
       "  0.3919183537364006,\n",
       "  0.367559514939785,\n",
       "  0.3411744460463524,\n",
       "  0.31224990636110306,\n",
       "  0.2799999937415123,\n",
       "  0.24310491234064102,\n",
       "  0.19899749010801315,\n",
       "  0.14106736332178116])"
      ]
     },
     "execution_count": 47,
     "metadata": {},
     "output_type": "execute_result"
    }
   ],
   "source": [
    "simple_contour(f)"
   ]
  },
  {
   "cell_type": "markdown",
   "metadata": {},
   "source": [
    "On obtient bien un quart de cercle. On aurait aussi pu utiliser la méthode de Newton pour ce problème."
   ]
  },
  {
   "cell_type": "markdown",
   "metadata": {},
   "source": [
    "### Deuxième approche\n",
    "\n",
    "On essaie maitenant d'avoie un $\\delta$ d'écart pour les différentes valeurs de $x$ mais aussi de $y$. Encore une fois, on peut utiliser la dichotomie ou bien la méthode de Newton pour trouver une solution de l'équation $f(x,y)=c$ . On ajoute donc 1 nouveaux paramètres *valmax* , qui permettraient de ne rechercher qu'un $y$ dans un voisinage proche de la dernière solution trouvée. ]. Ceci permet de palier au problème rencontré si notre ligne de niveau fait un \"lacet\", ce qui engendrerait deux valeurs possibles de $y$ pour un même $x$. Dans ce cas, nos tableaux n'auraient pas forcément présenté de continuité sur la ligne de niveau.\n",
    "\n",
    "<p> On commence par Newton:"
   ]
  },
  {
   "cell_type": "code",
   "execution_count": null,
   "metadata": {},
   "outputs": [],
   "source": [
    "def find_seed3Dich(x, y ,g, valmax, valmin, c=0, eps=2**(-26)):\n",
    "\n",
    "    max=max(g(x,valmin), g(x,valmax))\n",
    "    min=min(g(x,valmin), g(x,valmax))\n",
    "\n",
    "    if c>max or c<min:\n",
    "        return None\n",
    "    while abs(g(x,y)-c)>eps:\n",
    "\n",
    "    if y>valmax or y<valmin:\n",
    "        return None\n",
    "\n",
    "        y= y - (g(x,y)/deriv(g,x,y))\n",
    "\n",
    "    return y"
   ]
  },
  {
   "cell_type": "markdown",
   "metadata": {},
   "source": [
    "Puis la dichotomie:"
   ]
  },
  {
   "cell_type": "code",
   "execution_count": null,
   "metadata": {},
   "outputs": [],
   "source": [
    "def find_seed2Dich(x, y ,g, valmax, valmin, c=0, eps=2**(-26)):\n",
    "\n",
    "    max=max(g(x,valmin), g(x,valmax))\n",
    "    min=min(g(x,valmin), g(x,valmax))\n",
    "\n",
    "    if c>max or c<min:\n",
    "        return None\n",
    "\n",
    "    a=valmax\n",
    "    b=valmin\n",
    "    d=(a+b)/2\n",
    "    while abs(b-a)> eps:\n",
    "        if (g(x0,a)-c)*(g(x0,d)-c)>=0:\n",
    "            a=d\n",
    "        else:\n",
    "            b=d\n",
    "        d=(a+b)/2\n",
    "    return d"
   ]
  },
  {
   "cell_type": "markdown",
   "metadata": {},
   "source": [
    "La nouvelle fonction *contour* devient:"
   ]
  },
  {
   "cell_type": "code",
   "execution_count": null,
   "metadata": {},
   "outputs": [],
   "source": [
    "def simple_contour2New(f,y0=0.0, c=1, delta=0.01):\n",
    "    X=np.arange(0,1, delta)\n",
    "    Y=[]\n",
    "\n",
    "    for x0 in X:\n",
    "        if y0!=None and y0<=1 and y0>=0:\n",
    "            y0=find_seed2New(f,x0, y0+delta,y0-delta)\n",
    "            Y.append(y0)\n",
    "\n",
    "        else:\n",
    "            plt.plot(X[:(len(Y))],Y)\n",
    "            plt.show()\n",
    "            return X,Y\n",
    "\n",
    "    plt.plot(X, Y)\n",
    "    plt.show()\n",
    "\n",
    "    return X,Y"
   ]
  },
  {
   "cell_type": "markdown",
   "metadata": {},
   "source": [
    "Ou bien:"
   ]
  },
  {
   "cell_type": "code",
   "execution_count": null,
   "metadata": {},
   "outputs": [],
   "source": [
    "def simple_contour2New(f,y0=0.0, c=1, delta=0.01):\n",
    "    X=np.arange(0,1, delta)\n",
    "    Y=[]\n",
    "\n",
    "    for x0 in X:\n",
    "        if y0!=None and y0<=1 and y0>=0:\n",
    "            y0=find_seed2Dich(f,x0,y0+delta,y0-delta)\n",
    "            Y.append(y0)\n",
    "\n",
    "        else:\n",
    "            plt.plot(X[:(len(Y))],Y)\n",
    "            plt.show()\n",
    "            return X,Y\n",
    "\n",
    "    plt.plot(X, Y)\n",
    "    plt.show()\n",
    "\n",
    "    return X,Y"
   ]
  },
  {
   "cell_type": "markdown",
   "metadata": {},
   "source": [
    "## Contour complexe\n",
    "\n",
    "On modifie la fonctions find_seed pour l'adapter à n'importe quel rectangle de mesure. Le fonctionnement de notre code est alors de quadriller notre espace en rectangles élémentaires, puis de reprendre le même déroulement que pour \"simple_contour\" pour chaque rectangle de notre quadrillage. On obtient alors une vue d'ensemble de notre espace avec la ligne de niveau concernée."
   ]
  },
  {
   "cell_type": "code",
   "execution_count": null,
   "metadata": {},
   "outputs": [],
   "source": [
    "xc=np.arange(0.0,1.0,0.01)\n",
    "yc=np.arange(0.0,1.0, 0.01)\n",
    "\n",
    "def contour(f, xc, yc,c=0.0, delta=0.01):\n",
    "    Yfinal=[]\n",
    "    Xfinal=[]\n",
    "\n",
    "    for i in range (1, len(xc)):\n",
    "\n",
    "        Xquadr=np.arange(xc[i-1], xc[i], alpha=0.001)\n",
    "    \n",
    "        for j in range(1,len(yc)):\n",
    "            Yquadr=np.arange(yc[j-1], yc[j],alpha=0.001)\n",
    "            y0=yc[j-1]\n",
    "            Ylocal=[]\n",
    "            for x0 in Xquadr:\n",
    "                y0=find_seed3(x0,y0, g, yc[j+1], yc[j])\n",
    "                Ylocal.append(y0)\n",
    "            s=0\n",
    "            Y=[]\n",
    "\n",
    "            while y0!= None and s<len(Ylocal):\n",
    "                Y.append(y0)\n",
    "                s=s+1\n",
    "                y0=Ylocal[s]\n",
    "            Yfinal.append(Y)\n",
    "        Xfinal.append(Xquadr)\n",
    "    return Xfinal, Yfinal\n",
    "   \n",
    "\n",
    "\n",
    "def find_seed3(x, y ,g, valmax, valmin, c=0, eps=2**(-26)):\n",
    "\n",
    "    max=max(g(x,valmin), g(x,valmax))\n",
    "    min=min(g(x,valmin), g(x,valmax))\n",
    "\n",
    "    if c>max or c<min:\n",
    "        return None\n",
    "\n",
    "    while abs(g(x,y)-c)>eps:\n",
    "    \n",
    "        if y>valmax or y<valmin:\n",
    "            return None\n",
    "            \n",
    "        y= y - (g(x,y)/deriv(g,x,y))\n",
    "\n",
    "    return y"
   ]
  }
 ],
 "metadata": {
  "kernelspec": {
   "display_name": "Python 3",
   "language": "python",
   "name": "python3"
  },
  "language_info": {
   "codemirror_mode": {
    "name": "ipython",
    "version": 3
   },
   "file_extension": ".py",
   "mimetype": "text/x-python",
   "name": "python",
   "nbconvert_exporter": "python",
   "pygments_lexer": "ipython3",
   "version": "3.7.3"
  }
 },
 "nbformat": 4,
 "nbformat_minor": 2
}
